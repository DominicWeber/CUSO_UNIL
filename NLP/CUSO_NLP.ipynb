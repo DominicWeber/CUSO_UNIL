{
  "cells": [
    {
      "cell_type": "markdown",
      "metadata": {
        "id": "XTwRiPWWRtVr"
      },
      "source": [
        "# NLP with Flair\n",
        "\n",
        "This notebook is a step-by-step walkthrough of NLP – named entity recognition and part-of-speech tagging specifically.\n",
        "\n",
        "After familiarizing yourself with how it all works and plays together, you should be able to re-use the notebook and adapt it to your needs.\n",
        "\n",
        "The term 'notebook' here refers to this .ipynb-file. It is a file format, which allows for text- and code cells respectively. Code cells can be run directly form the notebook.\n",
        "\n",
        "As we will be running the notebook in Google Colab, no installations are required. Google Colab provides you with a virtual machine which has python and an array of useful packages pre-installed.\n",
        "Keep in mind that Google Colab is a cloud service after all, so if your research involves working with sensitive data it might not be compliant with your data privacy regulations and restrictions."
      ]
    },
    {
      "cell_type": "markdown",
      "metadata": {
        "id": "wdF4PeXYOpHk"
      },
      "source": [
        "## NER with Flair\n",
        "\n",
        "The goal of named entity extraction (NER) is to identify persons, locations, organisations, and sometimes other concepts too.\n",
        "\n",
        "This notebook uses the NER framework [flair](https://github.com/flairNLP/flair) as it is relatively easy to use and Ismail Prada-Ziegler from DH Unibe has trained an NER-Model for the bernese towerbooks, which will serve as an example here. Spacy is another widely used NER framework, which is also intuitive and powerful."
      ]
    },
    {
      "cell_type": "code",
      "execution_count": null,
      "metadata": {
        "id": "bdKHwPTgVCyA"
      },
      "outputs": [],
      "source": [
        "# install flair\n",
        "\n",
        "!pip install flair"
      ]
    },
    {
      "cell_type": "code",
      "execution_count": null,
      "metadata": {
        "id": "pJgAYJ5gPCLi"
      },
      "outputs": [],
      "source": [
        "# First, we need to load the utilities we need from the flair module.\n",
        "from flair.splitter import SegtokSentenceSplitter\n",
        "from flair.models import SequenceTagger"
      ]
    },
    {
      "attachments": {},
      "cell_type": "markdown",
      "metadata": {},
      "source": [
        "In order to be able to access the example text we need to upload the txt to\n",
        "the session storage. You can do this in the files-tab in the sidebar."
      ]
    },
    {
      "cell_type": "code",
      "execution_count": null,
      "metadata": {
        "id": "jqSHEmwrdMrt"
      },
      "outputs": [],
      "source": [
        "# Once done, you can read the file into a python object like so.\n",
        "with open('B_IX_452.txt') as f:\n",
        "  text = f.read()"
      ]
    },
    {
      "attachments": {},
      "cell_type": "markdown",
      "metadata": {},
      "source": [
        "We also need to load a tagger (model). We can directly use links to [huggingface](https://huggingface.co/) here.\n",
        "\n",
        "Models tend to be large, so this step can take some time if executed for the first time. It can also fill up the RAM of your virtual machine rather quickly, so if you use large models, try to have only one loaded at the same time and restart the runtime if you intend to switch the model.\n",
        "\n",
        "In this example we use the aforementioned model trained on the bernese towerbooks."
      ]
    },
    {
      "cell_type": "code",
      "execution_count": null,
      "metadata": {
        "id": "RceQE0YOXerT"
      },
      "outputs": [],
      "source": [
        "tagger = SequenceTagger.load(\"dh-unibe/turmbuecher-ner-v1\")"
      ]
    },
    {
      "attachments": {},
      "cell_type": "markdown",
      "metadata": {},
      "source": [
        "Before we feed the text to the tagger we need to turn it into a Sentence\n",
        "object, which also tokenizes it.\n",
        "\n",
        "It can make sense to split long documents into paragraphs before prediction\n",
        "as most systems perform worse on long texts, which is why we use the built\n",
        "in splitter."
      ]
    },
    {
      "cell_type": "code",
      "execution_count": null,
      "metadata": {
        "id": "VGbPYXOuYa6s"
      },
      "outputs": [],
      "source": [
        "splitter = SegtokSentenceSplitter()\n",
        "sentences = splitter.split(text)\n",
        "\n",
        "# Here we actually identify the named entities. This can take a while.\n",
        "tagger.predict(sentences)\n",
        "\n",
        "# print the entities\n",
        "for sentence in sentences:\n",
        "  for entity in sentence.get_spans('ner'):\n",
        "    print(entity)"
      ]
    },
    {
      "attachments": {},
      "cell_type": "markdown",
      "metadata": {
        "id": "HsRO6glV0mLH"
      },
      "source": [
        "As expected, this model works very well for the text we fed it. This is mainly because it is fine-tuned on the corpus the text is extracted from, so we can expect it to perform well on similar text.\n",
        "\n",
        "For your own project in the context of this workshop it is recommended to look for suitable models on [huggingface](https://huggingface.co/) instead of using the model we used above."
      ]
    },
    {
      "cell_type": "markdown",
      "metadata": {
        "id": "zgZCa-gSQVEO"
      },
      "source": [
        "## POS-tagging with Flair\n",
        "\n",
        "Part-of-speech tagging works the same in Flair. The only difference is that we likely have to use a different model and that we have to load a Classifier instead of a SequenceTagger. We will use the same text as an example again."
      ]
    },
    {
      "cell_type": "code",
      "execution_count": null,
      "metadata": {
        "id": "kxeZfVeISrMS"
      },
      "outputs": [],
      "source": [
        "# Install and load requirements and text in case you start here\n",
        "# (uncomment if necessary)\n",
        "# !pip install flair\n",
        "\n",
        "from flair.nn import Classifier\n",
        "from flair.splitter import SegtokSentenceSplitter\n",
        "\n",
        "with open('B_IX_452.txt') as f:\n",
        "  text = f.read()\n",
        "\n",
        "# Now we are loading a different model. In this case a build-in model for german\n",
        "# pos-tagging, just to see how it works for pre-modern texts.\n",
        "tagger = Classifier.load(\"de-pos\")\n",
        "\n",
        "# Finally we split the text into paragraphs again and predict and retrieve the\n",
        "# annotations.\n",
        "splitter = SegtokSentenceSplitter()\n",
        "sentences = splitter.split(text)\n",
        "\n",
        "# Here we actually identify the parts-of-speech. This can take a while.\n",
        "tagger.predict(sentences)\n",
        "\n",
        "# print the parts-of-speech\n",
        "for sentence in sentences:\n",
        "  print(sentence)"
      ]
    }
  ],
  "metadata": {
    "colab": {
      "provenance": []
    },
    "kernelspec": {
      "display_name": "Python 3",
      "name": "python3"
    },
    "language_info": {
      "name": "python"
    }
  },
  "nbformat": 4,
  "nbformat_minor": 0
}
