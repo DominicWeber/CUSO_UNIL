{
  "nbformat": 4,
  "nbformat_minor": 0,
  "metadata": {
    "colab": {
      "provenance": []
    },
    "kernelspec": {
      "name": "python3",
      "display_name": "Python 3"
    },
    "language_info": {
      "name": "python"
    }
  },
  "cells": [
    {
      "cell_type": "markdown",
      "source": [
        "# NER to LOD\n",
        "\n",
        "In diesem Notebook werden wir sehen, wie durch relativ kurzen Python-Code ein kurzer Text analysiert und die extrahierten Informationen mit Linked Open Data, am Beispiel der GND, verknüpft werden können.\n",
        "\n",
        "Sie müssen dazu nichts zusätzlich installieren, sämtliche notwendige Software wir im Laufe des Notebooks in der Cloud heruntergeladen.\n",
        "\n",
        "Bei diesem Dokument handelt es sich um ein sogenanntes Jupyter-Notebook. Jupyter-Notebooks erlauben das Ausführen von Python-Code in sogenannten Zellen. Daneben gibt es Text-Zellen wie diese. "
      ],
      "metadata": {
        "id": "QnMTdYO_mUEN"
      }
    },
    {
      "cell_type": "markdown",
      "source": [
        "## Named Entity Recognition\n",
        "\n",
        "In diesem Block annotieren wir einen kurzen Text mithilfe von spaCy, einer Python-Bibliothek für Textanalyse durch maschinelles Lernen. spaCy bietet sich gut an, da es wenig Anpassungen erfordert und bereits trainierte Modelle zur Verfügung stellt.\n",
        "\n",
        "Bei spaCy wird ein Text in eine sogenannte Pipeline eingespiesen, wo der Text mehrere Schritte durchläuft:\n",
        "![pipeline.svg](data:image/svg+xml;base64,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)\n",
        "\n",
        "Das erzeugte Doc-Object enthält dann den Text samt angereichter Informationen.\n",
        "\n",
        "Führen Sie die folgenden Code-Zellen durch Klicken des Play-Buttons aus. Sie können die Zellen auch anpassen, z.B. um den Text zu verändern."
      ],
      "metadata": {
        "id": "V8poka_9nOJB"
      }
    },
    {
      "cell_type": "code",
      "source": [
        "# Wir speichern den zu annotierenden Texte unter der Variable \"text\"\n",
        "\n",
        "text = \"Aarau ist der Geburts- und Wohnort zahlreicher bekannter Persönlichkeiten. \\\n",
        "Als weltweit bekannteste Personen, die in Aarau geboren wurden, gelten der Ernährungswissenschaftler Max Bircher-Benner, \\\n",
        "der Erfinder des Birchermüesli, sowie Hans Herzog, General der Schweizer Armee.\""
      ],
      "metadata": {
        "id": "zHoqoUNampQ2"
      },
      "execution_count": null,
      "outputs": []
    },
    {
      "cell_type": "code",
      "source": [
        "# Als nächstes laden wir ein Modell herunter, welches auf deutschen Texten trainiert wurde\n",
        "\n",
        "!python -m spacy download de_core_news_sm"
      ],
      "metadata": {
        "id": "tJ5r2tjHpOLH"
      },
      "execution_count": null,
      "outputs": []
    },
    {
      "cell_type": "code",
      "source": [
        "# Wir müssen dann das Modell noch in Python laden\n",
        "# Das Modell enthält die gesamte Pipeline! (Mehr Infos: https://spacy.io/models/de)\n",
        "\n",
        "import spacy\n",
        "\n",
        "nlp = spacy.load(\"de_core_news_sm\")"
      ],
      "metadata": {
        "id": "1plNUTwcob8m"
      },
      "execution_count": null,
      "outputs": []
    },
    {
      "cell_type": "code",
      "source": [
        "# Nun geben wir unseren Text in die Pipeline\n",
        "\n",
        "doc = nlp(text)"
      ],
      "metadata": {
        "id": "BaMmfki0pZoR"
      },
      "execution_count": null,
      "outputs": []
    },
    {
      "cell_type": "code",
      "source": [
        "# Sehen wir uns den annotierten Text an!\n",
        "\n",
        "for token in doc:\n",
        "    print(token.text, token.ent_type_)\n",
        "\n",
        "# Nicht angezeigt, aber auch vorhanden sind linguistische Informationen wie POS-tags und Dependenzen."
      ],
      "metadata": {
        "id": "XCPyNxy9pljH"
      },
      "execution_count": null,
      "outputs": []
    },
    {
      "cell_type": "code",
      "source": [
        "# Wir können das auch hübscher darstellen dank des Moduls \"displacy\"\n",
        "\n",
        "from spacy import displacy\n",
        "\n",
        "displacy.render(doc, style='ent', jupyter=True)"
      ],
      "metadata": {
        "id": "XxwjUDjCqGB8"
      },
      "execution_count": null,
      "outputs": []
    },
    {
      "cell_type": "markdown",
      "source": [
        "So einfach können wir also einen Text annotieren!\n",
        "\n",
        "Probieren Sie weitere Beispiele aus, indem sie den Text ersetzen, oder das spacy-Modell!"
      ],
      "metadata": {
        "id": "oXbSQTALq8uB"
      }
    },
    {
      "cell_type": "markdown",
      "source": [
        "## Linking Data to Linked Open Databases\n",
        "\n",
        "In diesem Abschnitt werden wir die vorher gefundenen Personen über die API von https://lobid.org suchen."
      ],
      "metadata": {
        "id": "llAmRG6_rFTx"
      }
    },
    {
      "cell_type": "code",
      "source": [
        "# Unter dem Attribut \"ents\" des Doc-Objekts finden wir eine Liste aller erkannten Entitäten.\n",
        "\n",
        "for ent in doc.ents:\n",
        "    print(ent)"
      ],
      "metadata": {
        "id": "noZKXb-DrpwV"
      },
      "execution_count": null,
      "outputs": []
    },
    {
      "cell_type": "code",
      "source": [
        "import requests\n",
        "\n",
        "for entity in doc.ents:\n",
        "\n",
        "    # Mit diesem Befehl fragen wir die Lobid-API ab\n",
        "    r = requests.get(f\"https://lobid.org/gnd/search?q=preferredName%3A{entity}&format=json\")\n",
        "\n",
        "    result = r.json()\n",
        "\n",
        "    # Für jedes Resultat geben wir die erste gefundene GND-URI heraus\n",
        "    print(entity, \"=>\", result[\"member\"][0][\"id\"])"
      ],
      "metadata": {
        "id": "2tWrusCNtNcc"
      },
      "execution_count": null,
      "outputs": []
    },
    {
      "cell_type": "markdown",
      "source": [
        "Wir sehen hier schon, dass mit diesen einfachen Methoden relativ häufige Namen wie \"Hans Herzog\" nicht korrekt verlinkt werden. Wir würden unter den Resultaten zwar wahrscheinlich den richtigen finden, aber um eine Art \"Ranking\" zu erstellen, ist mehr Aufwand notwendig. \n",
        "\n",
        "Moderne Systeme verwenden für diese Verlinkung übrigens Machinelles Lernen, was weitaus besser funktioniert als der Abgleich einzelner Felder in einer Datenbank.\n",
        "\n",
        "Im unteren Beispiel erweitere ich die Query noch um die Informationen des Berufs und des Geburtsorts von Hans Herzog, zwei Informationen, die relativ leicht automatisch im Text zu erkennen wären, hätte man ein entsprechendes Modell trainiert."
      ],
      "metadata": {
        "id": "WiZLZrgXvCQM"
      }
    },
    {
      "cell_type": "code",
      "source": [
        "import requests\n",
        "\n",
        "# Wenn wir noch die Info hätten, dass Hans Herzog General war und in Aarau geboren wurde, könnten wir eine Query so schreiben:\n",
        "query = \"General Hans Herzog Aarau\"\n",
        "\n",
        "r = requests.get(f\"https://lobid.org/gnd/search?q={query}&format=json\")\n",
        "\n",
        "result = r.json()\n",
        "\n",
        "# Für jedes Resultat geben wir die erste gefundene GND-URI heraus\n",
        "print(result[\"member\"][0][\"id\"])\n",
        "\n",
        "# Und es ist der Richtige!"
      ],
      "metadata": {
        "colab": {
          "base_uri": "https://localhost:8080/"
        },
        "id": "8qeMpXO7wO09",
        "outputId": "37b40da6-7b73-4b43-c2a3-93a52053d362"
      },
      "execution_count": null,
      "outputs": [
        {
          "output_type": "stream",
          "name": "stdout",
          "text": [
            "https://d-nb.info/gnd/139764240\n"
          ]
        }
      ]
    },
    {
      "cell_type": "markdown",
      "source": [
        "Eine sehr ähnliche Methodik, nur um einiges komplizierter, wird z.B. bei E-Periodica Next Level Access verwendet zur Verlinkung der Personen! (https://nla.e-periodica.ch/)"
      ],
      "metadata": {
        "id": "3ZZQocvLxAcc"
      }
    }
  ]
}